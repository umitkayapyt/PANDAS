{
 "cells": [
  {
   "cell_type": "code",
   "execution_count": 1,
   "id": "bbbe8860",
   "metadata": {},
   "outputs": [],
   "source": [
    "import pandas as pd ; import numpy as np ; from datetime import datetime"
   ]
  },
  {
   "cell_type": "code",
   "execution_count": 5,
   "id": "7623db89",
   "metadata": {},
   "outputs": [],
   "source": [
    "tarih=[datetime(2020,1,5),datetime(2020,1,10),datetime(2020,1,5),datetime(2020,1,20),datetime(2020,1,25)]"
   ]
  },
  {
   "cell_type": "code",
   "execution_count": 7,
   "id": "78968f6c",
   "metadata": {},
   "outputs": [
    {
     "data": {
      "text/plain": [
       "2020-01-05   -0.447060\n",
       "2020-01-10   -0.475596\n",
       "2020-01-05    0.010496\n",
       "2020-01-20   -0.678954\n",
       "2020-01-25   -0.164746\n",
       "dtype: float64"
      ]
     },
     "execution_count": 7,
     "metadata": {},
     "output_type": "execute_result"
    }
   ],
   "source": [
    "zs=pd.Series(np.random.randn(5),index=tarih)\n",
    "zs"
   ]
  },
  {
   "cell_type": "code",
   "execution_count": 8,
   "id": "452d3629",
   "metadata": {},
   "outputs": [
    {
     "data": {
      "text/plain": [
       "DatetimeIndex(['2020-01-05', '2020-01-10', '2020-01-05', '2020-01-20',\n",
       "               '2020-01-25'],\n",
       "              dtype='datetime64[ns]', freq=None)"
      ]
     },
     "execution_count": 8,
     "metadata": {},
     "output_type": "execute_result"
    }
   ],
   "source": [
    "zs.index"
   ]
  },
  {
   "cell_type": "code",
   "execution_count": 10,
   "id": "abde720d",
   "metadata": {},
   "outputs": [
    {
     "data": {
      "text/plain": [
       "Timestamp('2020-10-01 00:00:00')"
      ]
     },
     "execution_count": 10,
     "metadata": {},
     "output_type": "execute_result"
    }
   ],
   "source": [
    "pd.to_datetime(\"10/01/2020\")"
   ]
  },
  {
   "cell_type": "code",
   "execution_count": 12,
   "id": "a12d31b5",
   "metadata": {},
   "outputs": [
    {
     "data": {
      "text/plain": [
       "DatetimeIndex(['2020-07-05', '2020-07-06', '2020-07-07', '2020-07-08'], dtype='datetime64[ns]', freq=None)"
      ]
     },
     "execution_count": 12,
     "metadata": {},
     "output_type": "execute_result"
    }
   ],
   "source": [
    "dates=pd.to_datetime([datetime(2020,7,5),\"6th of July, 2020\",\"2020-Jul-7\",\"20200708\"])\n",
    "dates"
   ]
  },
  {
   "cell_type": "code",
   "execution_count": 13,
   "id": "692a47dd",
   "metadata": {},
   "outputs": [
    {
     "data": {
      "text/plain": [
       "PeriodIndex(['2020-07-05', '2020-07-06', '2020-07-07', '2020-07-08'], dtype='period[D]', freq='D')"
      ]
     },
     "execution_count": 13,
     "metadata": {},
     "output_type": "execute_result"
    }
   ],
   "source": [
    "dates.to_period(\"D\")"
   ]
  },
  {
   "cell_type": "code",
   "execution_count": 15,
   "id": "e15473df",
   "metadata": {},
   "outputs": [
    {
     "data": {
      "text/plain": [
       "DatetimeIndex(['2020-07-05', '2020-07-06', '2020-07-07', '2020-07-08'], dtype='datetime64[ns]', freq=None)"
      ]
     },
     "execution_count": 15,
     "metadata": {},
     "output_type": "execute_result"
    }
   ],
   "source": [
    "dates"
   ]
  },
  {
   "cell_type": "code",
   "execution_count": 16,
   "id": "57b192db",
   "metadata": {},
   "outputs": [
    {
     "data": {
      "text/plain": [
       "TimedeltaIndex(['0 days', '1 days', '2 days', '3 days'], dtype='timedelta64[ns]', freq=None)"
      ]
     },
     "execution_count": 16,
     "metadata": {},
     "output_type": "execute_result"
    }
   ],
   "source": [
    "dates-dates[0]"
   ]
  },
  {
   "cell_type": "code",
   "execution_count": 18,
   "id": "5c431584",
   "metadata": {},
   "outputs": [
    {
     "data": {
      "text/plain": [
       "DatetimeIndex(['2020-08-15', '2020-08-16', '2020-08-17', '2020-08-18',\n",
       "               '2020-08-19', '2020-08-20', '2020-08-21', '2020-08-22',\n",
       "               '2020-08-23', '2020-08-24', '2020-08-25', '2020-08-26',\n",
       "               '2020-08-27', '2020-08-28', '2020-08-29', '2020-08-30',\n",
       "               '2020-08-31', '2020-09-01', '2020-09-02', '2020-09-03',\n",
       "               '2020-09-04', '2020-09-05', '2020-09-06', '2020-09-07',\n",
       "               '2020-09-08', '2020-09-09', '2020-09-10'],\n",
       "              dtype='datetime64[ns]', freq='D')"
      ]
     },
     "execution_count": 18,
     "metadata": {},
     "output_type": "execute_result"
    }
   ],
   "source": [
    "pd.date_range(\"2020-8-15\",\"2020-09-10\")"
   ]
  },
  {
   "cell_type": "code",
   "execution_count": 19,
   "id": "e3c6124f",
   "metadata": {},
   "outputs": [
    {
     "data": {
      "text/plain": [
       "DatetimeIndex(['2020-07-15', '2020-07-16', '2020-07-17', '2020-07-18',\n",
       "               '2020-07-19', '2020-07-20', '2020-07-21', '2020-07-22',\n",
       "               '2020-07-23', '2020-07-24'],\n",
       "              dtype='datetime64[ns]', freq='D')"
      ]
     },
     "execution_count": 19,
     "metadata": {},
     "output_type": "execute_result"
    }
   ],
   "source": [
    "pd.date_range(\"2020-7-15\", periods=10)"
   ]
  },
  {
   "cell_type": "code",
   "execution_count": 22,
   "id": "826bb23a",
   "metadata": {},
   "outputs": [
    {
     "data": {
      "text/plain": [
       "DatetimeIndex(['2020-07-15 00:00:00', '2020-07-15 01:00:00',\n",
       "               '2020-07-15 02:00:00', '2020-07-15 03:00:00',\n",
       "               '2020-07-15 04:00:00', '2020-07-15 05:00:00',\n",
       "               '2020-07-15 06:00:00', '2020-07-15 07:00:00',\n",
       "               '2020-07-15 08:00:00', '2020-07-15 09:00:00'],\n",
       "              dtype='datetime64[ns]', freq='H')"
      ]
     },
     "execution_count": 22,
     "metadata": {},
     "output_type": "execute_result"
    }
   ],
   "source": [
    "pd.date_range(\"2020-7-15\", periods=10,freq=\"H\")"
   ]
  },
  {
   "cell_type": "code",
   "execution_count": 23,
   "id": "21eb5fe5",
   "metadata": {},
   "outputs": [
    {
     "data": {
      "text/plain": [
       "PeriodIndex(['2020-10-01 00:00', '2020-10-01 01:00', '2020-10-01 02:00',\n",
       "             '2020-10-01 03:00', '2020-10-01 04:00', '2020-10-01 05:00',\n",
       "             '2020-10-01 06:00', '2020-10-01 07:00', '2020-10-01 08:00',\n",
       "             '2020-10-01 09:00'],\n",
       "            dtype='period[H]', freq='H')"
      ]
     },
     "execution_count": 23,
     "metadata": {},
     "output_type": "execute_result"
    }
   ],
   "source": [
    "pd.period_range(\"2020-10\",periods=10,freq=\"H\")"
   ]
  },
  {
   "cell_type": "code",
   "execution_count": 24,
   "id": "a70d8f37",
   "metadata": {},
   "outputs": [
    {
     "data": {
      "text/plain": [
       "PeriodIndex(['2020-10', '2020-11', '2020-12', '2021-01', '2021-02', '2021-03',\n",
       "             '2021-04', '2021-05', '2021-06', '2021-07'],\n",
       "            dtype='period[M]', freq='M')"
      ]
     },
     "execution_count": 24,
     "metadata": {},
     "output_type": "execute_result"
    }
   ],
   "source": [
    "pd.period_range(\"2020-10\",periods=10,freq=\"M\")"
   ]
  },
  {
   "cell_type": "code",
   "execution_count": 25,
   "id": "0392b55f",
   "metadata": {},
   "outputs": [
    {
     "data": {
      "text/plain": [
       "TimedeltaIndex(['0 days 00:00:00', '0 days 01:00:00', '0 days 02:00:00',\n",
       "                '0 days 03:00:00', '0 days 04:00:00', '0 days 05:00:00',\n",
       "                '0 days 06:00:00', '0 days 07:00:00'],\n",
       "               dtype='timedelta64[ns]', freq='H')"
      ]
     },
     "execution_count": 25,
     "metadata": {},
     "output_type": "execute_result"
    }
   ],
   "source": [
    "pd.timedelta_range(0, periods=8, freq=\"H\")"
   ]
  },
  {
   "cell_type": "code",
   "execution_count": 26,
   "id": "2e94f9de",
   "metadata": {},
   "outputs": [
    {
     "data": {
      "text/plain": [
       "2020-01-05   -0.447060\n",
       "2020-01-10   -0.475596\n",
       "2020-01-05    0.010496\n",
       "2020-01-20   -0.678954\n",
       "2020-01-25   -0.164746\n",
       "dtype: float64"
      ]
     },
     "execution_count": 26,
     "metadata": {},
     "output_type": "execute_result"
    }
   ],
   "source": [
    "zs"
   ]
  },
  {
   "cell_type": "code",
   "execution_count": 27,
   "id": "024f6b54",
   "metadata": {},
   "outputs": [
    {
     "data": {
      "text/plain": [
       "Timestamp('2020-01-10 00:00:00')"
      ]
     },
     "execution_count": 27,
     "metadata": {},
     "output_type": "execute_result"
    }
   ],
   "source": [
    "damga=zs.index[1]\n",
    "damga"
   ]
  },
  {
   "cell_type": "code",
   "execution_count": 28,
   "id": "7fed8095",
   "metadata": {},
   "outputs": [
    {
     "data": {
      "text/plain": [
       "-0.475596439966405"
      ]
     },
     "execution_count": 28,
     "metadata": {},
     "output_type": "execute_result"
    }
   ],
   "source": [
    "zs[damga]"
   ]
  },
  {
   "cell_type": "code",
   "execution_count": 29,
   "id": "ef6305e8",
   "metadata": {},
   "outputs": [
    {
     "data": {
      "text/plain": [
       "2020-01-25   -0.164746\n",
       "dtype: float64"
      ]
     },
     "execution_count": 29,
     "metadata": {},
     "output_type": "execute_result"
    }
   ],
   "source": [
    "zs[\"25.1.2020\"]"
   ]
  },
  {
   "cell_type": "code",
   "execution_count": 30,
   "id": "1236a77b",
   "metadata": {},
   "outputs": [
    {
     "data": {
      "text/plain": [
       "2020-01-25   -0.164746\n",
       "dtype: float64"
      ]
     },
     "execution_count": 30,
     "metadata": {},
     "output_type": "execute_result"
    }
   ],
   "source": [
    "zs[\"20200125\"]"
   ]
  },
  {
   "cell_type": "code",
   "execution_count": 32,
   "id": "670998f6",
   "metadata": {},
   "outputs": [
    {
     "data": {
      "text/plain": [
       "2020-01-01    0.285341\n",
       "2020-01-02    0.864106\n",
       "2020-01-03    2.130008\n",
       "2020-01-04    1.183404\n",
       "2020-01-05   -1.283849\n",
       "Freq: D, dtype: float64"
      ]
     },
     "execution_count": 32,
     "metadata": {},
     "output_type": "execute_result"
    }
   ],
   "source": [
    "uzun_zs=pd.Series(np.random.randn(1000),index=pd.date_range(\"1/1/2020\", periods=1000))\n",
    "uzun_zs.head()"
   ]
  },
  {
   "cell_type": "code",
   "execution_count": 33,
   "id": "ccf5fa68",
   "metadata": {},
   "outputs": [
    {
     "data": {
      "text/plain": [
       "2020-01-01    0.285341\n",
       "2020-01-02    0.864106\n",
       "2020-01-03    2.130008\n",
       "2020-01-04    1.183404\n",
       "2020-01-05   -1.283849\n",
       "                ...   \n",
       "2020-12-27   -0.947911\n",
       "2020-12-28   -0.237148\n",
       "2020-12-29   -0.332963\n",
       "2020-12-30   -0.843498\n",
       "2020-12-31   -0.830790\n",
       "Freq: D, Length: 366, dtype: float64"
      ]
     },
     "execution_count": 33,
     "metadata": {},
     "output_type": "execute_result"
    }
   ],
   "source": [
    "uzun_zs[\"2020\"]"
   ]
  },
  {
   "cell_type": "code",
   "execution_count": 34,
   "id": "9ab9927f",
   "metadata": {},
   "outputs": [
    {
     "data": {
      "text/plain": [
       "2020-10-01   -0.122831\n",
       "2020-10-02    0.717036\n",
       "2020-10-03    0.081355\n",
       "2020-10-04   -0.950364\n",
       "2020-10-05    0.185691\n",
       "2020-10-06    0.740917\n",
       "2020-10-07    0.208487\n",
       "2020-10-08    0.018592\n",
       "2020-10-09    1.780439\n",
       "2020-10-10    0.445325\n",
       "2020-10-11    1.132023\n",
       "2020-10-12    0.489450\n",
       "2020-10-13   -0.297725\n",
       "2020-10-14    1.570905\n",
       "2020-10-15    0.176190\n",
       "2020-10-16    0.038557\n",
       "2020-10-17    2.026678\n",
       "2020-10-18    1.609127\n",
       "2020-10-19   -0.519889\n",
       "2020-10-20    0.382571\n",
       "2020-10-21   -0.464423\n",
       "2020-10-22   -0.322012\n",
       "2020-10-23   -0.112137\n",
       "2020-10-24    1.341699\n",
       "2020-10-25   -0.133830\n",
       "2020-10-26   -0.447346\n",
       "2020-10-27   -0.943408\n",
       "2020-10-28   -0.792487\n",
       "2020-10-29    1.847196\n",
       "2020-10-30    1.144894\n",
       "2020-10-31   -1.309437\n",
       "Freq: D, dtype: float64"
      ]
     },
     "execution_count": 34,
     "metadata": {},
     "output_type": "execute_result"
    }
   ],
   "source": [
    "uzun_zs[\"2020-10\"]"
   ]
  },
  {
   "cell_type": "code",
   "execution_count": 35,
   "id": "7ab5260a",
   "metadata": {},
   "outputs": [
    {
     "data": {
      "text/plain": [
       "2022-09-20   -0.039103\n",
       "2022-09-21    0.031511\n",
       "2022-09-22    0.878652\n",
       "2022-09-23    1.257500\n",
       "2022-09-24   -0.742354\n",
       "2022-09-25   -0.474423\n",
       "2022-09-26    1.034458\n",
       "Freq: D, dtype: float64"
      ]
     },
     "execution_count": 35,
     "metadata": {},
     "output_type": "execute_result"
    }
   ],
   "source": [
    "uzun_zs[datetime(2022,9,20):]"
   ]
  },
  {
   "cell_type": "code",
   "execution_count": 36,
   "id": "c8eb42f3",
   "metadata": {},
   "outputs": [
    {
     "data": {
      "text/plain": [
       "2020-01-05   -0.447060\n",
       "2020-01-10   -0.475596\n",
       "2020-01-05    0.010496\n",
       "2020-01-20   -0.678954\n",
       "2020-01-25   -0.164746\n",
       "dtype: float64"
      ]
     },
     "execution_count": 36,
     "metadata": {},
     "output_type": "execute_result"
    }
   ],
   "source": [
    "zs"
   ]
  },
  {
   "cell_type": "code",
   "execution_count": 46,
   "id": "65591636",
   "metadata": {},
   "outputs": [
    {
     "ename": "ValueError",
     "evalue": "truncate requires a sorted index",
     "output_type": "error",
     "traceback": [
      "\u001b[1;31m---------------------------------------------------------------------------\u001b[0m",
      "\u001b[1;31mValueError\u001b[0m                                Traceback (most recent call last)",
      "\u001b[1;32m<ipython-input-46-a99541542bcf>\u001b[0m in \u001b[0;36m<module>\u001b[1;34m\u001b[0m\n\u001b[1;32m----> 1\u001b[1;33m \u001b[0mzs\u001b[0m\u001b[1;33m.\u001b[0m\u001b[0mtruncate\u001b[0m\u001b[1;33m(\u001b[0m\u001b[0mafter\u001b[0m\u001b[1;33m=\u001b[0m\u001b[1;34m\"1/20/2020\"\u001b[0m\u001b[1;33m)\u001b[0m\u001b[1;33m\u001b[0m\u001b[1;33m\u001b[0m\u001b[0m\n\u001b[0m",
      "\u001b[1;32mC:\\ProgramData\\Anaconda3\\lib\\site-packages\\pandas\\core\\generic.py\u001b[0m in \u001b[0;36mtruncate\u001b[1;34m(self, before, after, axis, copy)\u001b[0m\n\u001b[0;32m   9692\u001b[0m         \u001b[1;31m# Check that index is sorted\u001b[0m\u001b[1;33m\u001b[0m\u001b[1;33m\u001b[0m\u001b[1;33m\u001b[0m\u001b[0m\n\u001b[0;32m   9693\u001b[0m         \u001b[1;32mif\u001b[0m \u001b[1;32mnot\u001b[0m \u001b[0max\u001b[0m\u001b[1;33m.\u001b[0m\u001b[0mis_monotonic_increasing\u001b[0m \u001b[1;32mand\u001b[0m \u001b[1;32mnot\u001b[0m \u001b[0max\u001b[0m\u001b[1;33m.\u001b[0m\u001b[0mis_monotonic_decreasing\u001b[0m\u001b[1;33m:\u001b[0m\u001b[1;33m\u001b[0m\u001b[1;33m\u001b[0m\u001b[0m\n\u001b[1;32m-> 9694\u001b[1;33m             \u001b[1;32mraise\u001b[0m \u001b[0mValueError\u001b[0m\u001b[1;33m(\u001b[0m\u001b[1;34m\"truncate requires a sorted index\"\u001b[0m\u001b[1;33m)\u001b[0m\u001b[1;33m\u001b[0m\u001b[1;33m\u001b[0m\u001b[0m\n\u001b[0m\u001b[0;32m   9695\u001b[0m \u001b[1;33m\u001b[0m\u001b[0m\n\u001b[0;32m   9696\u001b[0m         \u001b[1;31m# if we have a date index, convert to dates, otherwise\u001b[0m\u001b[1;33m\u001b[0m\u001b[1;33m\u001b[0m\u001b[1;33m\u001b[0m\u001b[0m\n",
      "\u001b[1;31mValueError\u001b[0m: truncate requires a sorted index"
     ]
    }
   ],
   "source": [
    "zs.truncate(after=\"1/15/2020\")"
   ]
  },
  {
   "cell_type": "code",
   "execution_count": 47,
   "id": "289a852c",
   "metadata": {},
   "outputs": [
    {
     "data": {
      "text/plain": [
       "DatetimeIndex(['2020-01-05', '2020-01-12', '2020-01-19', '2020-01-26',\n",
       "               '2020-02-02', '2020-02-09', '2020-02-16', '2020-02-23',\n",
       "               '2020-03-01', '2020-03-08', '2020-03-15', '2020-03-22',\n",
       "               '2020-03-29', '2020-04-05', '2020-04-12', '2020-04-19',\n",
       "               '2020-04-26', '2020-05-03', '2020-05-10', '2020-05-17',\n",
       "               '2020-05-24', '2020-05-31', '2020-06-07', '2020-06-14',\n",
       "               '2020-06-21', '2020-06-28', '2020-07-05', '2020-07-12',\n",
       "               '2020-07-19', '2020-07-26', '2020-08-02', '2020-08-09',\n",
       "               '2020-08-16', '2020-08-23', '2020-08-30', '2020-09-06',\n",
       "               '2020-09-13', '2020-09-20', '2020-09-27', '2020-10-04',\n",
       "               '2020-10-11', '2020-10-18', '2020-10-25', '2020-11-01',\n",
       "               '2020-11-08', '2020-11-15', '2020-11-22', '2020-11-29',\n",
       "               '2020-12-06', '2020-12-13', '2020-12-20', '2020-12-27',\n",
       "               '2021-01-03', '2021-01-10', '2021-01-17', '2021-01-24',\n",
       "               '2021-01-31', '2021-02-07', '2021-02-14', '2021-02-21',\n",
       "               '2021-02-28', '2021-03-07', '2021-03-14', '2021-03-21',\n",
       "               '2021-03-28', '2021-04-04', '2021-04-11', '2021-04-18',\n",
       "               '2021-04-25', '2021-05-02', '2021-05-09', '2021-05-16',\n",
       "               '2021-05-23', '2021-05-30', '2021-06-06', '2021-06-13',\n",
       "               '2021-06-20', '2021-06-27', '2021-07-04', '2021-07-11',\n",
       "               '2021-07-18', '2021-07-25', '2021-08-01', '2021-08-08',\n",
       "               '2021-08-15', '2021-08-22', '2021-08-29', '2021-09-05',\n",
       "               '2021-09-12', '2021-09-19', '2021-09-26', '2021-10-03',\n",
       "               '2021-10-10', '2021-10-17', '2021-10-24', '2021-10-31',\n",
       "               '2021-11-07', '2021-11-14', '2021-11-21', '2021-11-28'],\n",
       "              dtype='datetime64[ns]', freq='W-SUN')"
      ]
     },
     "execution_count": 47,
     "metadata": {},
     "output_type": "execute_result"
    }
   ],
   "source": [
    "tarih=pd.date_range(\"1/1/2020\",periods=100,freq=\"W-SUN\")\n",
    "tarih"
   ]
  },
  {
   "cell_type": "code",
   "execution_count": 48,
   "id": "947b56bc",
   "metadata": {},
   "outputs": [
    {
     "data": {
      "text/html": [
       "<div>\n",
       "<style scoped>\n",
       "    .dataframe tbody tr th:only-of-type {\n",
       "        vertical-align: middle;\n",
       "    }\n",
       "\n",
       "    .dataframe tbody tr th {\n",
       "        vertical-align: top;\n",
       "    }\n",
       "\n",
       "    .dataframe thead th {\n",
       "        text-align: right;\n",
       "    }\n",
       "</style>\n",
       "<table border=\"1\" class=\"dataframe\">\n",
       "  <thead>\n",
       "    <tr style=\"text-align: right;\">\n",
       "      <th></th>\n",
       "      <th>A</th>\n",
       "      <th>B</th>\n",
       "      <th>C</th>\n",
       "      <th>D</th>\n",
       "    </tr>\n",
       "  </thead>\n",
       "  <tbody>\n",
       "    <tr>\n",
       "      <th>2020-01-05</th>\n",
       "      <td>2.204022</td>\n",
       "      <td>-1.498371</td>\n",
       "      <td>-0.565369</td>\n",
       "      <td>1.362484</td>\n",
       "    </tr>\n",
       "    <tr>\n",
       "      <th>2020-01-12</th>\n",
       "      <td>-0.120519</td>\n",
       "      <td>1.195466</td>\n",
       "      <td>0.002402</td>\n",
       "      <td>2.361493</td>\n",
       "    </tr>\n",
       "    <tr>\n",
       "      <th>2020-01-19</th>\n",
       "      <td>0.837548</td>\n",
       "      <td>-0.088608</td>\n",
       "      <td>-1.100124</td>\n",
       "      <td>-1.517278</td>\n",
       "    </tr>\n",
       "    <tr>\n",
       "      <th>2020-01-26</th>\n",
       "      <td>-2.252383</td>\n",
       "      <td>-0.347614</td>\n",
       "      <td>0.505232</td>\n",
       "      <td>-0.614080</td>\n",
       "    </tr>\n",
       "    <tr>\n",
       "      <th>2020-02-02</th>\n",
       "      <td>-2.291220</td>\n",
       "      <td>-1.283500</td>\n",
       "      <td>-1.323051</td>\n",
       "      <td>-1.530245</td>\n",
       "    </tr>\n",
       "    <tr>\n",
       "      <th>...</th>\n",
       "      <td>...</td>\n",
       "      <td>...</td>\n",
       "      <td>...</td>\n",
       "      <td>...</td>\n",
       "    </tr>\n",
       "    <tr>\n",
       "      <th>2021-10-31</th>\n",
       "      <td>0.620790</td>\n",
       "      <td>1.338436</td>\n",
       "      <td>-0.378567</td>\n",
       "      <td>-0.638527</td>\n",
       "    </tr>\n",
       "    <tr>\n",
       "      <th>2021-11-07</th>\n",
       "      <td>-0.013610</td>\n",
       "      <td>-0.661645</td>\n",
       "      <td>-1.494100</td>\n",
       "      <td>-0.766252</td>\n",
       "    </tr>\n",
       "    <tr>\n",
       "      <th>2021-11-14</th>\n",
       "      <td>-1.221732</td>\n",
       "      <td>0.931695</td>\n",
       "      <td>-0.959836</td>\n",
       "      <td>0.207483</td>\n",
       "    </tr>\n",
       "    <tr>\n",
       "      <th>2021-11-21</th>\n",
       "      <td>-0.493255</td>\n",
       "      <td>1.668170</td>\n",
       "      <td>-0.022976</td>\n",
       "      <td>-0.538462</td>\n",
       "    </tr>\n",
       "    <tr>\n",
       "      <th>2021-11-28</th>\n",
       "      <td>0.373851</td>\n",
       "      <td>-0.770242</td>\n",
       "      <td>0.356823</td>\n",
       "      <td>-0.244314</td>\n",
       "    </tr>\n",
       "  </tbody>\n",
       "</table>\n",
       "<p>100 rows × 4 columns</p>\n",
       "</div>"
      ],
      "text/plain": [
       "                   A         B         C         D\n",
       "2020-01-05  2.204022 -1.498371 -0.565369  1.362484\n",
       "2020-01-12 -0.120519  1.195466  0.002402  2.361493\n",
       "2020-01-19  0.837548 -0.088608 -1.100124 -1.517278\n",
       "2020-01-26 -2.252383 -0.347614  0.505232 -0.614080\n",
       "2020-02-02 -2.291220 -1.283500 -1.323051 -1.530245\n",
       "...              ...       ...       ...       ...\n",
       "2021-10-31  0.620790  1.338436 -0.378567 -0.638527\n",
       "2021-11-07 -0.013610 -0.661645 -1.494100 -0.766252\n",
       "2021-11-14 -1.221732  0.931695 -0.959836  0.207483\n",
       "2021-11-21 -0.493255  1.668170 -0.022976 -0.538462\n",
       "2021-11-28  0.373851 -0.770242  0.356823 -0.244314\n",
       "\n",
       "[100 rows x 4 columns]"
      ]
     },
     "execution_count": 48,
     "metadata": {},
     "output_type": "execute_result"
    }
   ],
   "source": [
    "uzun_df=pd.DataFrame(np.random.randn(100,4),index=tarih, columns=list(\"ABCD\"))\n",
    "uzun_df"
   ]
  },
  {
   "cell_type": "code",
   "execution_count": 49,
   "id": "8b8449f9",
   "metadata": {},
   "outputs": [
    {
     "name": "stderr",
     "output_type": "stream",
     "text": [
      "<ipython-input-49-e3661f9d83a1>:1: FutureWarning: Indexing a DataFrame with a datetimelike index using a single string to slice the rows, like `frame[string]`, is deprecated and will be removed in a future version. Use `frame.loc[string]` instead.\n",
      "  uzun_df[\"2020-10\"]\n"
     ]
    },
    {
     "data": {
      "text/html": [
       "<div>\n",
       "<style scoped>\n",
       "    .dataframe tbody tr th:only-of-type {\n",
       "        vertical-align: middle;\n",
       "    }\n",
       "\n",
       "    .dataframe tbody tr th {\n",
       "        vertical-align: top;\n",
       "    }\n",
       "\n",
       "    .dataframe thead th {\n",
       "        text-align: right;\n",
       "    }\n",
       "</style>\n",
       "<table border=\"1\" class=\"dataframe\">\n",
       "  <thead>\n",
       "    <tr style=\"text-align: right;\">\n",
       "      <th></th>\n",
       "      <th>A</th>\n",
       "      <th>B</th>\n",
       "      <th>C</th>\n",
       "      <th>D</th>\n",
       "    </tr>\n",
       "  </thead>\n",
       "  <tbody>\n",
       "    <tr>\n",
       "      <th>2020-10-04</th>\n",
       "      <td>-0.437745</td>\n",
       "      <td>-1.264071</td>\n",
       "      <td>-2.084591</td>\n",
       "      <td>1.470271</td>\n",
       "    </tr>\n",
       "    <tr>\n",
       "      <th>2020-10-11</th>\n",
       "      <td>1.949839</td>\n",
       "      <td>-0.100900</td>\n",
       "      <td>0.458121</td>\n",
       "      <td>0.268341</td>\n",
       "    </tr>\n",
       "    <tr>\n",
       "      <th>2020-10-18</th>\n",
       "      <td>0.185869</td>\n",
       "      <td>-0.540627</td>\n",
       "      <td>-1.303823</td>\n",
       "      <td>0.733874</td>\n",
       "    </tr>\n",
       "    <tr>\n",
       "      <th>2020-10-25</th>\n",
       "      <td>0.098667</td>\n",
       "      <td>0.871988</td>\n",
       "      <td>1.091799</td>\n",
       "      <td>0.367432</td>\n",
       "    </tr>\n",
       "  </tbody>\n",
       "</table>\n",
       "</div>"
      ],
      "text/plain": [
       "                   A         B         C         D\n",
       "2020-10-04 -0.437745 -1.264071 -2.084591  1.470271\n",
       "2020-10-11  1.949839 -0.100900  0.458121  0.268341\n",
       "2020-10-18  0.185869 -0.540627 -1.303823  0.733874\n",
       "2020-10-25  0.098667  0.871988  1.091799  0.367432"
      ]
     },
     "execution_count": 49,
     "metadata": {},
     "output_type": "execute_result"
    }
   ],
   "source": [
    "uzun_df[\"2020-10\"]"
   ]
  },
  {
   "cell_type": "code",
   "execution_count": 50,
   "id": "82bcbc61",
   "metadata": {},
   "outputs": [
    {
     "data": {
      "text/plain": [
       "2020-01-01    0\n",
       "2020-01-02    1\n",
       "2020-01-02    2\n",
       "2020-01-02    3\n",
       "2020-01-03    4\n",
       "dtype: int32"
      ]
     },
     "execution_count": 50,
     "metadata": {},
     "output_type": "execute_result"
    }
   ],
   "source": [
    "tarih=pd.DatetimeIndex([\"1/1/2020\",\"1/2/2020\",\"1/2/2020\",\"1/2/2020\",\"1/3/2020\"])\n",
    "zs1=pd.Series(np.arange(5),index=tarih)\n",
    "zs1"
   ]
  },
  {
   "cell_type": "code",
   "execution_count": 51,
   "id": "1df45c03",
   "metadata": {},
   "outputs": [
    {
     "data": {
      "text/plain": [
       "False"
      ]
     },
     "execution_count": 51,
     "metadata": {},
     "output_type": "execute_result"
    }
   ],
   "source": [
    "zs1.index.is_unique"
   ]
  },
  {
   "cell_type": "code",
   "execution_count": 52,
   "id": "8a3c23c6",
   "metadata": {},
   "outputs": [],
   "source": [
    "grup=zs1.groupby(level=0)"
   ]
  },
  {
   "cell_type": "code",
   "execution_count": 53,
   "id": "54e0eda6",
   "metadata": {},
   "outputs": [
    {
     "data": {
      "text/plain": [
       "2020-01-01    1\n",
       "2020-01-02    3\n",
       "2020-01-03    1\n",
       "dtype: int64"
      ]
     },
     "execution_count": 53,
     "metadata": {},
     "output_type": "execute_result"
    }
   ],
   "source": [
    "grup.count()"
   ]
  },
  {
   "cell_type": "code",
   "execution_count": 54,
   "id": "85922c7f",
   "metadata": {},
   "outputs": [
    {
     "data": {
      "text/plain": [
       "2020-01-01    0\n",
       "2020-01-02    2\n",
       "2020-01-03    4\n",
       "dtype: int32"
      ]
     },
     "execution_count": 54,
     "metadata": {},
     "output_type": "execute_result"
    }
   ],
   "source": [
    "grup.mean()"
   ]
  }
 ],
 "metadata": {
  "kernelspec": {
   "display_name": "Python 3",
   "language": "python",
   "name": "python3"
  },
  "language_info": {
   "codemirror_mode": {
    "name": "ipython",
    "version": 3
   },
   "file_extension": ".py",
   "mimetype": "text/x-python",
   "name": "python",
   "nbconvert_exporter": "python",
   "pygments_lexer": "ipython3",
   "version": "3.8.8"
  }
 },
 "nbformat": 4,
 "nbformat_minor": 5
}
