{
 "cells": [
  {
   "cell_type": "code",
   "execution_count": 1,
   "id": "8bb8da6b",
   "metadata": {},
   "outputs": [],
   "source": [
    "import pandas as pd"
   ]
  },
  {
   "cell_type": "code",
   "execution_count": 2,
   "id": "5eb79fba",
   "metadata": {},
   "outputs": [],
   "source": [
    "nt=[30,80,40,90,60,45,95,75,55,100,65,85]"
   ]
  },
  {
   "cell_type": "code",
   "execution_count": 3,
   "id": "32aff273",
   "metadata": {},
   "outputs": [],
   "source": [
    "aralik=[20,40,60,80,100]"
   ]
  },
  {
   "cell_type": "code",
   "execution_count": 5,
   "id": "e9293037",
   "metadata": {},
   "outputs": [
    {
     "data": {
      "text/plain": [
       "[(20, 40], (60, 80], (20, 40], (80, 100], (40, 60], ..., (60, 80], (40, 60], (80, 100], (60, 80], (80, 100]]\n",
       "Length: 12\n",
       "Categories (4, interval[int64]): [(20, 40] < (40, 60] < (60, 80] < (80, 100]]"
      ]
     },
     "execution_count": 5,
     "metadata": {},
     "output_type": "execute_result"
    }
   ],
   "source": [
    "puan=pd.cut(nt,aralik)\n",
    "puan"
   ]
  },
  {
   "cell_type": "code",
   "execution_count": 6,
   "id": "def0c5d4",
   "metadata": {},
   "outputs": [
    {
     "data": {
      "text/plain": [
       "array([0, 2, 0, 3, 1, 1, 3, 2, 1, 3, 2, 3], dtype=int8)"
      ]
     },
     "execution_count": 6,
     "metadata": {},
     "output_type": "execute_result"
    }
   ],
   "source": [
    "puan.codes"
   ]
  },
  {
   "cell_type": "code",
   "execution_count": 7,
   "id": "0901628b",
   "metadata": {},
   "outputs": [
    {
     "data": {
      "text/plain": [
       "IntervalIndex([(20, 40], (40, 60], (60, 80], (80, 100]],\n",
       "              closed='right',\n",
       "              dtype='interval[int64]')"
      ]
     },
     "execution_count": 7,
     "metadata": {},
     "output_type": "execute_result"
    }
   ],
   "source": [
    "puan.categories"
   ]
  },
  {
   "cell_type": "code",
   "execution_count": 10,
   "id": "ad15dc3d",
   "metadata": {},
   "outputs": [
    {
     "data": {
      "text/plain": [
       "(80, 100]    4\n",
       "(40, 60]     3\n",
       "(60, 80]     3\n",
       "(20, 40]     2\n",
       "dtype: int64"
      ]
     },
     "execution_count": 10,
     "metadata": {},
     "output_type": "execute_result"
    }
   ],
   "source": [
    " pd.value_counts(puan)"
   ]
  },
  {
   "cell_type": "code",
   "execution_count": 15,
   "id": "6a76ad29",
   "metadata": {},
   "outputs": [
    {
     "data": {
      "text/plain": [
       "[[20, 40), [80, 100), [40, 60), [80, 100), [60, 80), ..., [60.0, 80.0), [40.0, 60.0), NaN, [60.0, 80.0), [80.0, 100.0)]\n",
       "Length: 12\n",
       "Categories (4, interval[int64]): [[20, 40) < [40, 60) < [60, 80) < [80, 100)]"
      ]
     },
     "execution_count": 15,
     "metadata": {},
     "output_type": "execute_result"
    }
   ],
   "source": [
    "puan=pd.cut(nt,aralik, right=False)\n",
    "puan"
   ]
  },
  {
   "cell_type": "code",
   "execution_count": 16,
   "id": "abf6de33",
   "metadata": {},
   "outputs": [
    {
     "data": {
      "text/plain": [
       "['düşük', 'yüksek', 'düşük', 'tavan', 'orta', ..., 'yüksek', 'orta', 'tavan', 'yüksek', 'tavan']\n",
       "Length: 12\n",
       "Categories (4, object): ['düşük' < 'orta' < 'yüksek' < 'tavan']"
      ]
     },
     "execution_count": 16,
     "metadata": {},
     "output_type": "execute_result"
    }
   ],
   "source": [
    "isim=[\"düşük\",\"orta\",\"yüksek\",\"tavan\"]\n",
    "pd.cut(nt, aralik,labels=isim)"
   ]
  },
  {
   "cell_type": "code",
   "execution_count": 18,
   "id": "11183291",
   "metadata": {},
   "outputs": [
    {
     "data": {
      "text/plain": [
       "[(29.93, 37.0], (79.0, 86.0], (37.0, 44.0], (86.0, 93.0], (58.0, 65.0], ..., (72.0, 79.0], (51.0, 58.0], (93.0, 100.0], (58.0, 65.0], (79.0, 86.0]]\n",
       "Length: 12\n",
       "Categories (10, interval[float64]): [(29.93, 37.0] < (37.0, 44.0] < (44.0, 51.0] < (51.0, 58.0] ... (72.0, 79.0] < (79.0, 86.0] < (86.0, 93.0] < (93.0, 100.0]]"
      ]
     },
     "execution_count": 18,
     "metadata": {},
     "output_type": "execute_result"
    }
   ],
   "source": [
    "pd.cut(nt,10)"
   ]
  },
  {
   "cell_type": "code",
   "execution_count": 21,
   "id": "4fc3c824",
   "metadata": {},
   "outputs": [
    {
     "data": {
      "text/plain": [
       "array([-8.21851860e-01, -1.05475004e+00, -1.22899583e+00,  9.37668483e-01,\n",
       "        7.57318804e-01,  7.00835470e-01, -1.64833309e+00,  1.45732484e+00,\n",
       "       -2.20488944e-01, -6.61445817e-01, -5.50895748e-01, -1.99209319e+00,\n",
       "       -4.66705073e-01,  1.53189319e-01, -1.20616317e+00, -5.00942671e-01,\n",
       "        9.16621625e-02, -1.81856791e+00, -9.29507665e-01,  1.53326208e+00,\n",
       "        1.25964358e+00, -1.51559170e+00, -1.49643591e+00,  7.61200138e-01,\n",
       "       -9.28978980e-01,  2.01963353e-02,  2.55405682e-01, -1.05579962e+00,\n",
       "       -1.30812713e-01, -2.92294384e-01, -1.01586138e+00,  9.23015359e-01,\n",
       "       -5.34825778e-01,  8.78783690e-01, -1.57965734e+00,  6.64103299e-01,\n",
       "       -5.74995413e-01, -9.12436416e-02,  6.15977580e-01, -2.30291528e-03,\n",
       "        1.92163194e-01,  5.52669527e-01,  4.54238017e-01, -5.78242933e-02,\n",
       "        5.15534837e-01,  2.81307490e-01, -8.87243624e-01,  2.33636633e-01,\n",
       "       -1.86176582e+00, -5.79048622e-01,  8.46178952e-01, -8.83449951e-01,\n",
       "        1.61107686e+00, -1.17953278e+00, -9.71670032e-01, -4.94506196e-01,\n",
       "       -1.46679582e+00,  1.21988327e+00,  2.06349602e-01,  3.25926431e-01,\n",
       "        5.02564881e-01,  1.26872822e-01, -1.34160550e-01,  3.96777208e-01,\n",
       "       -1.72660428e+00,  6.52350944e-02,  1.33648598e-01, -1.85666516e+00,\n",
       "       -6.52964883e-01,  8.08919203e-01, -6.46231205e-01,  5.53722259e-01,\n",
       "        7.97496328e-01,  2.71353503e+00, -4.10166525e-01,  4.23958103e-01,\n",
       "        2.45085647e-01,  1.85611807e-01,  2.55158456e+00, -8.26987267e-01,\n",
       "       -1.78848672e+00, -7.51257079e-03,  9.83146831e-01, -6.20243514e-01,\n",
       "       -1.97130662e+00,  2.10198602e-01,  3.51926255e-01, -5.45597307e-01,\n",
       "       -2.92341755e-01, -1.86014039e+00, -2.25462752e+00, -7.50247602e-02,\n",
       "       -4.40757167e-01, -5.74295838e-02, -2.66930040e+00,  7.64130638e-01,\n",
       "       -3.39164912e-01, -1.16062347e+00,  6.27035877e-01,  1.21898832e-01])"
      ]
     },
     "execution_count": 21,
     "metadata": {},
     "output_type": "execute_result"
    }
   ],
   "source": [
    "import numpy as np\n",
    "veri=np.random.randn(100)\n",
    "veri"
   ]
  },
  {
   "cell_type": "code",
   "execution_count": 32,
   "id": "b1bc42a5",
   "metadata": {},
   "outputs": [
    {
     "data": {
      "text/plain": [
       "[(-1.055, -0.656], (-1.055, -0.656], (-1.656, -1.055], (0.883, 2.714], (0.618, 0.883], ..., (0.618, 0.883], (-0.478, -0.0831], (-1.656, -1.055], (0.618, 0.883], (-0.0831, 0.13]]\n",
       "Length: 100\n",
       "Categories (10, interval[float64]): [(-2.67, -1.656] < (-1.656, -1.055] < (-1.055, -0.656] < (-0.656, -0.478] ... (0.13, 0.295] < (0.295, 0.618] < (0.618, 0.883] < (0.883, 2.714]]"
      ]
     },
     "execution_count": 32,
     "metadata": {},
     "output_type": "execute_result"
    }
   ],
   "source": [
    "x=pd.qcut(veri,10)\n",
    "x"
   ]
  },
  {
   "cell_type": "code",
   "execution_count": 33,
   "id": "e406ae27",
   "metadata": {},
   "outputs": [
    {
     "data": {
      "text/plain": [
       "(-2.67, -1.656]      10\n",
       "(-1.656, -1.055]     10\n",
       "(-1.055, -0.656]     10\n",
       "(-0.656, -0.478]     10\n",
       "(-0.478, -0.0831]    10\n",
       "(-0.0831, 0.13]      10\n",
       "(0.13, 0.295]        10\n",
       "(0.295, 0.618]       10\n",
       "(0.618, 0.883]       10\n",
       "(0.883, 2.714]       10\n",
       "dtype: int64"
      ]
     },
     "execution_count": 33,
     "metadata": {},
     "output_type": "execute_result"
    }
   ],
   "source": [
    "pd.value_counts(x)"
   ]
  },
  {
   "cell_type": "code",
   "execution_count": 35,
   "id": "38c8830d",
   "metadata": {},
   "outputs": [
    {
     "data": {
      "text/html": [
       "<div>\n",
       "<style scoped>\n",
       "    .dataframe tbody tr th:only-of-type {\n",
       "        vertical-align: middle;\n",
       "    }\n",
       "\n",
       "    .dataframe tbody tr th {\n",
       "        vertical-align: top;\n",
       "    }\n",
       "\n",
       "    .dataframe thead th {\n",
       "        text-align: right;\n",
       "    }\n",
       "</style>\n",
       "<table border=\"1\" class=\"dataframe\">\n",
       "  <thead>\n",
       "    <tr style=\"text-align: right;\">\n",
       "      <th></th>\n",
       "      <th>0</th>\n",
       "      <th>1</th>\n",
       "      <th>2</th>\n",
       "      <th>3</th>\n",
       "    </tr>\n",
       "  </thead>\n",
       "  <tbody>\n",
       "    <tr>\n",
       "      <th>0</th>\n",
       "      <td>-0.303985</td>\n",
       "      <td>0.853097</td>\n",
       "      <td>0.266856</td>\n",
       "      <td>-0.600683</td>\n",
       "    </tr>\n",
       "    <tr>\n",
       "      <th>1</th>\n",
       "      <td>-0.292765</td>\n",
       "      <td>0.704307</td>\n",
       "      <td>-0.086008</td>\n",
       "      <td>1.369085</td>\n",
       "    </tr>\n",
       "    <tr>\n",
       "      <th>2</th>\n",
       "      <td>-0.332057</td>\n",
       "      <td>-0.703983</td>\n",
       "      <td>1.008565</td>\n",
       "      <td>0.408513</td>\n",
       "    </tr>\n",
       "    <tr>\n",
       "      <th>3</th>\n",
       "      <td>-0.699551</td>\n",
       "      <td>-0.714710</td>\n",
       "      <td>-0.486042</td>\n",
       "      <td>-0.480519</td>\n",
       "    </tr>\n",
       "    <tr>\n",
       "      <th>4</th>\n",
       "      <td>-2.546170</td>\n",
       "      <td>-0.379511</td>\n",
       "      <td>-0.742611</td>\n",
       "      <td>-0.266606</td>\n",
       "    </tr>\n",
       "    <tr>\n",
       "      <th>...</th>\n",
       "      <td>...</td>\n",
       "      <td>...</td>\n",
       "      <td>...</td>\n",
       "      <td>...</td>\n",
       "    </tr>\n",
       "    <tr>\n",
       "      <th>995</th>\n",
       "      <td>-1.640779</td>\n",
       "      <td>-0.175133</td>\n",
       "      <td>1.178693</td>\n",
       "      <td>-0.072766</td>\n",
       "    </tr>\n",
       "    <tr>\n",
       "      <th>996</th>\n",
       "      <td>0.006142</td>\n",
       "      <td>1.286547</td>\n",
       "      <td>0.669144</td>\n",
       "      <td>1.041063</td>\n",
       "    </tr>\n",
       "    <tr>\n",
       "      <th>997</th>\n",
       "      <td>-1.974787</td>\n",
       "      <td>1.523584</td>\n",
       "      <td>-0.989154</td>\n",
       "      <td>-1.438708</td>\n",
       "    </tr>\n",
       "    <tr>\n",
       "      <th>998</th>\n",
       "      <td>0.933282</td>\n",
       "      <td>-0.691604</td>\n",
       "      <td>-0.207280</td>\n",
       "      <td>0.314520</td>\n",
       "    </tr>\n",
       "    <tr>\n",
       "      <th>999</th>\n",
       "      <td>1.487044</td>\n",
       "      <td>-0.161718</td>\n",
       "      <td>-0.259970</td>\n",
       "      <td>0.532729</td>\n",
       "    </tr>\n",
       "  </tbody>\n",
       "</table>\n",
       "<p>1000 rows × 4 columns</p>\n",
       "</div>"
      ],
      "text/plain": [
       "            0         1         2         3\n",
       "0   -0.303985  0.853097  0.266856 -0.600683\n",
       "1   -0.292765  0.704307 -0.086008  1.369085\n",
       "2   -0.332057 -0.703983  1.008565  0.408513\n",
       "3   -0.699551 -0.714710 -0.486042 -0.480519\n",
       "4   -2.546170 -0.379511 -0.742611 -0.266606\n",
       "..        ...       ...       ...       ...\n",
       "995 -1.640779 -0.175133  1.178693 -0.072766\n",
       "996  0.006142  1.286547  0.669144  1.041063\n",
       "997 -1.974787  1.523584 -0.989154 -1.438708\n",
       "998  0.933282 -0.691604 -0.207280  0.314520\n",
       "999  1.487044 -0.161718 -0.259970  0.532729\n",
       "\n",
       "[1000 rows x 4 columns]"
      ]
     },
     "execution_count": 35,
     "metadata": {},
     "output_type": "execute_result"
    }
   ],
   "source": [
    "veri2=pd.DataFrame(np.random.randn(1000,4))\n",
    "veri2"
   ]
  },
  {
   "cell_type": "code",
   "execution_count": 37,
   "id": "9102af6e",
   "metadata": {},
   "outputs": [
    {
     "data": {
      "text/html": [
       "<div>\n",
       "<style scoped>\n",
       "    .dataframe tbody tr th:only-of-type {\n",
       "        vertical-align: middle;\n",
       "    }\n",
       "\n",
       "    .dataframe tbody tr th {\n",
       "        vertical-align: top;\n",
       "    }\n",
       "\n",
       "    .dataframe thead th {\n",
       "        text-align: right;\n",
       "    }\n",
       "</style>\n",
       "<table border=\"1\" class=\"dataframe\">\n",
       "  <thead>\n",
       "    <tr style=\"text-align: right;\">\n",
       "      <th></th>\n",
       "      <th>0</th>\n",
       "      <th>1</th>\n",
       "      <th>2</th>\n",
       "      <th>3</th>\n",
       "    </tr>\n",
       "  </thead>\n",
       "  <tbody>\n",
       "    <tr>\n",
       "      <th>count</th>\n",
       "      <td>1000.000000</td>\n",
       "      <td>1000.000000</td>\n",
       "      <td>1000.000000</td>\n",
       "      <td>1000.000000</td>\n",
       "    </tr>\n",
       "    <tr>\n",
       "      <th>mean</th>\n",
       "      <td>-0.002899</td>\n",
       "      <td>0.093192</td>\n",
       "      <td>0.036117</td>\n",
       "      <td>0.029334</td>\n",
       "    </tr>\n",
       "    <tr>\n",
       "      <th>std</th>\n",
       "      <td>0.998398</td>\n",
       "      <td>1.039455</td>\n",
       "      <td>1.010194</td>\n",
       "      <td>0.990097</td>\n",
       "    </tr>\n",
       "    <tr>\n",
       "      <th>min</th>\n",
       "      <td>-2.864962</td>\n",
       "      <td>-3.292761</td>\n",
       "      <td>-3.605539</td>\n",
       "      <td>-3.204212</td>\n",
       "    </tr>\n",
       "    <tr>\n",
       "      <th>25%</th>\n",
       "      <td>-0.695955</td>\n",
       "      <td>-0.613678</td>\n",
       "      <td>-0.637867</td>\n",
       "      <td>-0.607454</td>\n",
       "    </tr>\n",
       "    <tr>\n",
       "      <th>50%</th>\n",
       "      <td>-0.027283</td>\n",
       "      <td>0.068334</td>\n",
       "      <td>0.031882</td>\n",
       "      <td>0.028669</td>\n",
       "    </tr>\n",
       "    <tr>\n",
       "      <th>75%</th>\n",
       "      <td>0.654923</td>\n",
       "      <td>0.812269</td>\n",
       "      <td>0.687445</td>\n",
       "      <td>0.720987</td>\n",
       "    </tr>\n",
       "    <tr>\n",
       "      <th>max</th>\n",
       "      <td>3.282967</td>\n",
       "      <td>3.852702</td>\n",
       "      <td>3.169559</td>\n",
       "      <td>3.723147</td>\n",
       "    </tr>\n",
       "  </tbody>\n",
       "</table>\n",
       "</div>"
      ],
      "text/plain": [
       "                 0            1            2            3\n",
       "count  1000.000000  1000.000000  1000.000000  1000.000000\n",
       "mean     -0.002899     0.093192     0.036117     0.029334\n",
       "std       0.998398     1.039455     1.010194     0.990097\n",
       "min      -2.864962    -3.292761    -3.605539    -3.204212\n",
       "25%      -0.695955    -0.613678    -0.637867    -0.607454\n",
       "50%      -0.027283     0.068334     0.031882     0.028669\n",
       "75%       0.654923     0.812269     0.687445     0.720987\n",
       "max       3.282967     3.852702     3.169559     3.723147"
      ]
     },
     "execution_count": 37,
     "metadata": {},
     "output_type": "execute_result"
    }
   ],
   "source": [
    "veri2.describe()"
   ]
  },
  {
   "cell_type": "code",
   "execution_count": 38,
   "id": "3da9dfba",
   "metadata": {},
   "outputs": [],
   "source": [
    "sutun=veri2[1]"
   ]
  },
  {
   "cell_type": "code",
   "execution_count": 39,
   "id": "e193c5de",
   "metadata": {},
   "outputs": [
    {
     "data": {
      "text/plain": [
       "50     3.221843\n",
       "246    3.124765\n",
       "333    3.095056\n",
       "599    3.162908\n",
       "739    3.075843\n",
       "831    3.852702\n",
       "884   -3.292761\n",
       "905   -3.130886\n",
       "Name: 1, dtype: float64"
      ]
     },
     "execution_count": 39,
     "metadata": {},
     "output_type": "execute_result"
    }
   ],
   "source": [
    "sutun[np.abs(sutun)>3]"
   ]
  },
  {
   "cell_type": "code",
   "execution_count": 41,
   "id": "c32be3d2",
   "metadata": {},
   "outputs": [
    {
     "data": {
      "text/html": [
       "<div>\n",
       "<style scoped>\n",
       "    .dataframe tbody tr th:only-of-type {\n",
       "        vertical-align: middle;\n",
       "    }\n",
       "\n",
       "    .dataframe tbody tr th {\n",
       "        vertical-align: top;\n",
       "    }\n",
       "\n",
       "    .dataframe thead th {\n",
       "        text-align: right;\n",
       "    }\n",
       "</style>\n",
       "<table border=\"1\" class=\"dataframe\">\n",
       "  <thead>\n",
       "    <tr style=\"text-align: right;\">\n",
       "      <th></th>\n",
       "      <th>0</th>\n",
       "      <th>1</th>\n",
       "      <th>2</th>\n",
       "      <th>3</th>\n",
       "    </tr>\n",
       "  </thead>\n",
       "  <tbody>\n",
       "    <tr>\n",
       "      <th>22</th>\n",
       "      <td>0.014248</td>\n",
       "      <td>-0.443637</td>\n",
       "      <td>-3.605539</td>\n",
       "      <td>-0.445665</td>\n",
       "    </tr>\n",
       "    <tr>\n",
       "      <th>50</th>\n",
       "      <td>0.478248</td>\n",
       "      <td>3.221843</td>\n",
       "      <td>1.419762</td>\n",
       "      <td>-0.731724</td>\n",
       "    </tr>\n",
       "    <tr>\n",
       "      <th>127</th>\n",
       "      <td>0.523819</td>\n",
       "      <td>1.845987</td>\n",
       "      <td>3.042201</td>\n",
       "      <td>-0.172551</td>\n",
       "    </tr>\n",
       "    <tr>\n",
       "      <th>207</th>\n",
       "      <td>3.153463</td>\n",
       "      <td>1.691295</td>\n",
       "      <td>-1.375264</td>\n",
       "      <td>-0.299942</td>\n",
       "    </tr>\n",
       "    <tr>\n",
       "      <th>246</th>\n",
       "      <td>-0.062402</td>\n",
       "      <td>3.124765</td>\n",
       "      <td>-0.787009</td>\n",
       "      <td>0.804685</td>\n",
       "    </tr>\n",
       "    <tr>\n",
       "      <th>263</th>\n",
       "      <td>3.154376</td>\n",
       "      <td>0.036767</td>\n",
       "      <td>-1.022061</td>\n",
       "      <td>-0.053916</td>\n",
       "    </tr>\n",
       "    <tr>\n",
       "      <th>333</th>\n",
       "      <td>-0.333919</td>\n",
       "      <td>3.095056</td>\n",
       "      <td>-1.388124</td>\n",
       "      <td>0.215732</td>\n",
       "    </tr>\n",
       "    <tr>\n",
       "      <th>478</th>\n",
       "      <td>0.563714</td>\n",
       "      <td>-0.771281</td>\n",
       "      <td>2.389160</td>\n",
       "      <td>3.030005</td>\n",
       "    </tr>\n",
       "    <tr>\n",
       "      <th>503</th>\n",
       "      <td>1.747795</td>\n",
       "      <td>-0.835429</td>\n",
       "      <td>0.895769</td>\n",
       "      <td>-3.204212</td>\n",
       "    </tr>\n",
       "    <tr>\n",
       "      <th>580</th>\n",
       "      <td>0.229349</td>\n",
       "      <td>1.482092</td>\n",
       "      <td>3.116006</td>\n",
       "      <td>-1.884456</td>\n",
       "    </tr>\n",
       "    <tr>\n",
       "      <th>599</th>\n",
       "      <td>0.461821</td>\n",
       "      <td>3.162908</td>\n",
       "      <td>-0.139699</td>\n",
       "      <td>-0.352027</td>\n",
       "    </tr>\n",
       "    <tr>\n",
       "      <th>610</th>\n",
       "      <td>-0.161454</td>\n",
       "      <td>-0.477951</td>\n",
       "      <td>-0.740710</td>\n",
       "      <td>-3.053984</td>\n",
       "    </tr>\n",
       "    <tr>\n",
       "      <th>640</th>\n",
       "      <td>3.130893</td>\n",
       "      <td>0.046880</td>\n",
       "      <td>0.211070</td>\n",
       "      <td>-2.096057</td>\n",
       "    </tr>\n",
       "    <tr>\n",
       "      <th>645</th>\n",
       "      <td>0.027512</td>\n",
       "      <td>0.973623</td>\n",
       "      <td>3.009353</td>\n",
       "      <td>-0.289095</td>\n",
       "    </tr>\n",
       "    <tr>\n",
       "      <th>739</th>\n",
       "      <td>-0.983366</td>\n",
       "      <td>3.075843</td>\n",
       "      <td>-0.608970</td>\n",
       "      <td>-1.866064</td>\n",
       "    </tr>\n",
       "    <tr>\n",
       "      <th>754</th>\n",
       "      <td>-0.884315</td>\n",
       "      <td>0.478131</td>\n",
       "      <td>1.064903</td>\n",
       "      <td>3.361753</td>\n",
       "    </tr>\n",
       "    <tr>\n",
       "      <th>796</th>\n",
       "      <td>-0.720003</td>\n",
       "      <td>1.246789</td>\n",
       "      <td>1.518360</td>\n",
       "      <td>3.723147</td>\n",
       "    </tr>\n",
       "    <tr>\n",
       "      <th>819</th>\n",
       "      <td>3.282967</td>\n",
       "      <td>1.388257</td>\n",
       "      <td>-0.065442</td>\n",
       "      <td>0.310592</td>\n",
       "    </tr>\n",
       "    <tr>\n",
       "      <th>831</th>\n",
       "      <td>-0.398143</td>\n",
       "      <td>3.852702</td>\n",
       "      <td>1.140484</td>\n",
       "      <td>-1.394381</td>\n",
       "    </tr>\n",
       "    <tr>\n",
       "      <th>884</th>\n",
       "      <td>-0.681281</td>\n",
       "      <td>-3.292761</td>\n",
       "      <td>1.504073</td>\n",
       "      <td>0.759638</td>\n",
       "    </tr>\n",
       "    <tr>\n",
       "      <th>905</th>\n",
       "      <td>-1.801945</td>\n",
       "      <td>-3.130886</td>\n",
       "      <td>-0.144634</td>\n",
       "      <td>-0.844976</td>\n",
       "    </tr>\n",
       "    <tr>\n",
       "      <th>925</th>\n",
       "      <td>0.604209</td>\n",
       "      <td>-0.359709</td>\n",
       "      <td>3.169559</td>\n",
       "      <td>-1.178091</td>\n",
       "    </tr>\n",
       "  </tbody>\n",
       "</table>\n",
       "</div>"
      ],
      "text/plain": [
       "            0         1         2         3\n",
       "22   0.014248 -0.443637 -3.605539 -0.445665\n",
       "50   0.478248  3.221843  1.419762 -0.731724\n",
       "127  0.523819  1.845987  3.042201 -0.172551\n",
       "207  3.153463  1.691295 -1.375264 -0.299942\n",
       "246 -0.062402  3.124765 -0.787009  0.804685\n",
       "263  3.154376  0.036767 -1.022061 -0.053916\n",
       "333 -0.333919  3.095056 -1.388124  0.215732\n",
       "478  0.563714 -0.771281  2.389160  3.030005\n",
       "503  1.747795 -0.835429  0.895769 -3.204212\n",
       "580  0.229349  1.482092  3.116006 -1.884456\n",
       "599  0.461821  3.162908 -0.139699 -0.352027\n",
       "610 -0.161454 -0.477951 -0.740710 -3.053984\n",
       "640  3.130893  0.046880  0.211070 -2.096057\n",
       "645  0.027512  0.973623  3.009353 -0.289095\n",
       "739 -0.983366  3.075843 -0.608970 -1.866064\n",
       "754 -0.884315  0.478131  1.064903  3.361753\n",
       "796 -0.720003  1.246789  1.518360  3.723147\n",
       "819  3.282967  1.388257 -0.065442  0.310592\n",
       "831 -0.398143  3.852702  1.140484 -1.394381\n",
       "884 -0.681281 -3.292761  1.504073  0.759638\n",
       "905 -1.801945 -3.130886 -0.144634 -0.844976\n",
       "925  0.604209 -0.359709  3.169559 -1.178091"
      ]
     },
     "execution_count": 41,
     "metadata": {},
     "output_type": "execute_result"
    }
   ],
   "source": [
    "veri2[(np.abs(veri2)>3).any(1)]"
   ]
  },
  {
   "cell_type": "code",
   "execution_count": 43,
   "id": "3023f065",
   "metadata": {},
   "outputs": [
    {
     "data": {
      "text/html": [
       "<div>\n",
       "<style scoped>\n",
       "    .dataframe tbody tr th:only-of-type {\n",
       "        vertical-align: middle;\n",
       "    }\n",
       "\n",
       "    .dataframe tbody tr th {\n",
       "        vertical-align: top;\n",
       "    }\n",
       "\n",
       "    .dataframe thead th {\n",
       "        text-align: right;\n",
       "    }\n",
       "</style>\n",
       "<table border=\"1\" class=\"dataframe\">\n",
       "  <thead>\n",
       "    <tr style=\"text-align: right;\">\n",
       "      <th></th>\n",
       "      <th>0</th>\n",
       "      <th>1</th>\n",
       "      <th>2</th>\n",
       "      <th>3</th>\n",
       "    </tr>\n",
       "  </thead>\n",
       "  <tbody>\n",
       "    <tr>\n",
       "      <th>0</th>\n",
       "      <td>-1.0</td>\n",
       "      <td>1.0</td>\n",
       "      <td>1.0</td>\n",
       "      <td>-1.0</td>\n",
       "    </tr>\n",
       "    <tr>\n",
       "      <th>1</th>\n",
       "      <td>-1.0</td>\n",
       "      <td>1.0</td>\n",
       "      <td>-1.0</td>\n",
       "      <td>1.0</td>\n",
       "    </tr>\n",
       "    <tr>\n",
       "      <th>2</th>\n",
       "      <td>-1.0</td>\n",
       "      <td>-1.0</td>\n",
       "      <td>1.0</td>\n",
       "      <td>1.0</td>\n",
       "    </tr>\n",
       "    <tr>\n",
       "      <th>3</th>\n",
       "      <td>-1.0</td>\n",
       "      <td>-1.0</td>\n",
       "      <td>-1.0</td>\n",
       "      <td>-1.0</td>\n",
       "    </tr>\n",
       "    <tr>\n",
       "      <th>4</th>\n",
       "      <td>-1.0</td>\n",
       "      <td>-1.0</td>\n",
       "      <td>-1.0</td>\n",
       "      <td>-1.0</td>\n",
       "    </tr>\n",
       "  </tbody>\n",
       "</table>\n",
       "</div>"
      ],
      "text/plain": [
       "     0    1    2    3\n",
       "0 -1.0  1.0  1.0 -1.0\n",
       "1 -1.0  1.0 -1.0  1.0\n",
       "2 -1.0 -1.0  1.0  1.0\n",
       "3 -1.0 -1.0 -1.0 -1.0\n",
       "4 -1.0 -1.0 -1.0 -1.0"
      ]
     },
     "execution_count": 43,
     "metadata": {},
     "output_type": "execute_result"
    }
   ],
   "source": [
    "np.sign(veri2).head()"
   ]
  },
  {
   "cell_type": "code",
   "execution_count": 47,
   "id": "c807321e",
   "metadata": {},
   "outputs": [
    {
     "data": {
      "text/html": [
       "<div>\n",
       "<style scoped>\n",
       "    .dataframe tbody tr th:only-of-type {\n",
       "        vertical-align: middle;\n",
       "    }\n",
       "\n",
       "    .dataframe tbody tr th {\n",
       "        vertical-align: top;\n",
       "    }\n",
       "\n",
       "    .dataframe thead th {\n",
       "        text-align: right;\n",
       "    }\n",
       "</style>\n",
       "<table border=\"1\" class=\"dataframe\">\n",
       "  <thead>\n",
       "    <tr style=\"text-align: right;\">\n",
       "      <th></th>\n",
       "      <th>0</th>\n",
       "      <th>1</th>\n",
       "      <th>2</th>\n",
       "    </tr>\n",
       "  </thead>\n",
       "  <tbody>\n",
       "    <tr>\n",
       "      <th>0</th>\n",
       "      <td>0</td>\n",
       "      <td>1</td>\n",
       "      <td>2</td>\n",
       "    </tr>\n",
       "    <tr>\n",
       "      <th>1</th>\n",
       "      <td>3</td>\n",
       "      <td>4</td>\n",
       "      <td>5</td>\n",
       "    </tr>\n",
       "    <tr>\n",
       "      <th>2</th>\n",
       "      <td>6</td>\n",
       "      <td>7</td>\n",
       "      <td>8</td>\n",
       "    </tr>\n",
       "    <tr>\n",
       "      <th>3</th>\n",
       "      <td>9</td>\n",
       "      <td>10</td>\n",
       "      <td>11</td>\n",
       "    </tr>\n",
       "  </tbody>\n",
       "</table>\n",
       "</div>"
      ],
      "text/plain": [
       "   0   1   2\n",
       "0  0   1   2\n",
       "1  3   4   5\n",
       "2  6   7   8\n",
       "3  9  10  11"
      ]
     },
     "execution_count": 47,
     "metadata": {},
     "output_type": "execute_result"
    }
   ],
   "source": [
    "veri3=pd.DataFrame(np.arange(12).reshape(4,3))\n",
    "veri3"
   ]
  },
  {
   "cell_type": "code",
   "execution_count": 48,
   "id": "217a56a7",
   "metadata": {},
   "outputs": [
    {
     "data": {
      "text/plain": [
       "array([3, 0, 2, 1])"
      ]
     },
     "execution_count": 48,
     "metadata": {},
     "output_type": "execute_result"
    }
   ],
   "source": [
    "sira=np.random.permutation(4)\n",
    "sira"
   ]
  },
  {
   "cell_type": "code",
   "execution_count": 55,
   "id": "0b4e70b4",
   "metadata": {},
   "outputs": [
    {
     "data": {
      "text/html": [
       "<div>\n",
       "<style scoped>\n",
       "    .dataframe tbody tr th:only-of-type {\n",
       "        vertical-align: middle;\n",
       "    }\n",
       "\n",
       "    .dataframe tbody tr th {\n",
       "        vertical-align: top;\n",
       "    }\n",
       "\n",
       "    .dataframe thead th {\n",
       "        text-align: right;\n",
       "    }\n",
       "</style>\n",
       "<table border=\"1\" class=\"dataframe\">\n",
       "  <thead>\n",
       "    <tr style=\"text-align: right;\">\n",
       "      <th></th>\n",
       "      <th>0</th>\n",
       "      <th>1</th>\n",
       "      <th>2</th>\n",
       "    </tr>\n",
       "  </thead>\n",
       "  <tbody>\n",
       "    <tr>\n",
       "      <th>3</th>\n",
       "      <td>9</td>\n",
       "      <td>10</td>\n",
       "      <td>11</td>\n",
       "    </tr>\n",
       "    <tr>\n",
       "      <th>0</th>\n",
       "      <td>0</td>\n",
       "      <td>1</td>\n",
       "      <td>2</td>\n",
       "    </tr>\n",
       "    <tr>\n",
       "      <th>2</th>\n",
       "      <td>6</td>\n",
       "      <td>7</td>\n",
       "      <td>8</td>\n",
       "    </tr>\n",
       "    <tr>\n",
       "      <th>1</th>\n",
       "      <td>3</td>\n",
       "      <td>4</td>\n",
       "      <td>5</td>\n",
       "    </tr>\n",
       "  </tbody>\n",
       "</table>\n",
       "</div>"
      ],
      "text/plain": [
       "   0   1   2\n",
       "3  9  10  11\n",
       "0  0   1   2\n",
       "2  6   7   8\n",
       "1  3   4   5"
      ]
     },
     "execution_count": 55,
     "metadata": {},
     "output_type": "execute_result"
    }
   ],
   "source": [
    "veri3.take(sira)"
   ]
  },
  {
   "cell_type": "code",
   "execution_count": 56,
   "id": "45b8e3cd",
   "metadata": {},
   "outputs": [
    {
     "data": {
      "text/html": [
       "<div>\n",
       "<style scoped>\n",
       "    .dataframe tbody tr th:only-of-type {\n",
       "        vertical-align: middle;\n",
       "    }\n",
       "\n",
       "    .dataframe tbody tr th {\n",
       "        vertical-align: top;\n",
       "    }\n",
       "\n",
       "    .dataframe thead th {\n",
       "        text-align: right;\n",
       "    }\n",
       "</style>\n",
       "<table border=\"1\" class=\"dataframe\">\n",
       "  <thead>\n",
       "    <tr style=\"text-align: right;\">\n",
       "      <th></th>\n",
       "      <th>0</th>\n",
       "      <th>1</th>\n",
       "      <th>2</th>\n",
       "    </tr>\n",
       "  </thead>\n",
       "  <tbody>\n",
       "    <tr>\n",
       "      <th>2</th>\n",
       "      <td>6</td>\n",
       "      <td>7</td>\n",
       "      <td>8</td>\n",
       "    </tr>\n",
       "  </tbody>\n",
       "</table>\n",
       "</div>"
      ],
      "text/plain": [
       "   0  1  2\n",
       "2  6  7  8"
      ]
     },
     "execution_count": 56,
     "metadata": {},
     "output_type": "execute_result"
    }
   ],
   "source": [
    "veri3.sample()"
   ]
  },
  {
   "cell_type": "code",
   "execution_count": 57,
   "id": "e8c7ca4e",
   "metadata": {},
   "outputs": [
    {
     "data": {
      "text/html": [
       "<div>\n",
       "<style scoped>\n",
       "    .dataframe tbody tr th:only-of-type {\n",
       "        vertical-align: middle;\n",
       "    }\n",
       "\n",
       "    .dataframe tbody tr th {\n",
       "        vertical-align: top;\n",
       "    }\n",
       "\n",
       "    .dataframe thead th {\n",
       "        text-align: right;\n",
       "    }\n",
       "</style>\n",
       "<table border=\"1\" class=\"dataframe\">\n",
       "  <thead>\n",
       "    <tr style=\"text-align: right;\">\n",
       "      <th></th>\n",
       "      <th>harf</th>\n",
       "      <th>sayi</th>\n",
       "    </tr>\n",
       "  </thead>\n",
       "  <tbody>\n",
       "    <tr>\n",
       "      <th>0</th>\n",
       "      <td>c</td>\n",
       "      <td>0</td>\n",
       "    </tr>\n",
       "    <tr>\n",
       "      <th>1</th>\n",
       "      <td>b</td>\n",
       "      <td>1</td>\n",
       "    </tr>\n",
       "    <tr>\n",
       "      <th>2</th>\n",
       "      <td>a</td>\n",
       "      <td>2</td>\n",
       "    </tr>\n",
       "    <tr>\n",
       "      <th>3</th>\n",
       "      <td>b</td>\n",
       "      <td>3</td>\n",
       "    </tr>\n",
       "    <tr>\n",
       "      <th>4</th>\n",
       "      <td>b</td>\n",
       "      <td>4</td>\n",
       "    </tr>\n",
       "    <tr>\n",
       "      <th>5</th>\n",
       "      <td>a</td>\n",
       "      <td>5</td>\n",
       "    </tr>\n",
       "  </tbody>\n",
       "</table>\n",
       "</div>"
      ],
      "text/plain": [
       "  harf  sayi\n",
       "0    c     0\n",
       "1    b     1\n",
       "2    a     2\n",
       "3    b     3\n",
       "4    b     4\n",
       "5    a     5"
      ]
     },
     "execution_count": 57,
     "metadata": {},
     "output_type": "execute_result"
    }
   ],
   "source": [
    "veri4=pd.DataFrame({\"harf\":[\"c\",\"b\",\"a\",\"b\",\"b\",\"a\"],\n",
    "                    \"sayi\":range(6)})\n",
    "veri4"
   ]
  },
  {
   "cell_type": "code",
   "execution_count": 59,
   "id": "7c68cc1f",
   "metadata": {},
   "outputs": [
    {
     "data": {
      "text/html": [
       "<div>\n",
       "<style scoped>\n",
       "    .dataframe tbody tr th:only-of-type {\n",
       "        vertical-align: middle;\n",
       "    }\n",
       "\n",
       "    .dataframe tbody tr th {\n",
       "        vertical-align: top;\n",
       "    }\n",
       "\n",
       "    .dataframe thead th {\n",
       "        text-align: right;\n",
       "    }\n",
       "</style>\n",
       "<table border=\"1\" class=\"dataframe\">\n",
       "  <thead>\n",
       "    <tr style=\"text-align: right;\">\n",
       "      <th></th>\n",
       "      <th>a</th>\n",
       "      <th>b</th>\n",
       "      <th>c</th>\n",
       "    </tr>\n",
       "  </thead>\n",
       "  <tbody>\n",
       "    <tr>\n",
       "      <th>0</th>\n",
       "      <td>0</td>\n",
       "      <td>0</td>\n",
       "      <td>1</td>\n",
       "    </tr>\n",
       "    <tr>\n",
       "      <th>1</th>\n",
       "      <td>0</td>\n",
       "      <td>1</td>\n",
       "      <td>0</td>\n",
       "    </tr>\n",
       "    <tr>\n",
       "      <th>2</th>\n",
       "      <td>1</td>\n",
       "      <td>0</td>\n",
       "      <td>0</td>\n",
       "    </tr>\n",
       "    <tr>\n",
       "      <th>3</th>\n",
       "      <td>0</td>\n",
       "      <td>1</td>\n",
       "      <td>0</td>\n",
       "    </tr>\n",
       "    <tr>\n",
       "      <th>4</th>\n",
       "      <td>0</td>\n",
       "      <td>1</td>\n",
       "      <td>0</td>\n",
       "    </tr>\n",
       "    <tr>\n",
       "      <th>5</th>\n",
       "      <td>1</td>\n",
       "      <td>0</td>\n",
       "      <td>0</td>\n",
       "    </tr>\n",
       "  </tbody>\n",
       "</table>\n",
       "</div>"
      ],
      "text/plain": [
       "   a  b  c\n",
       "0  0  0  1\n",
       "1  0  1  0\n",
       "2  1  0  0\n",
       "3  0  1  0\n",
       "4  0  1  0\n",
       "5  1  0  0"
      ]
     },
     "execution_count": 59,
     "metadata": {},
     "output_type": "execute_result"
    }
   ],
   "source": [
    "pd.get_dummies(veri4[\"harf\"])"
   ]
  },
  {
   "cell_type": "code",
   "execution_count": 61,
   "id": "9b6ecf6d",
   "metadata": {},
   "outputs": [
    {
     "data": {
      "text/html": [
       "<div>\n",
       "<style scoped>\n",
       "    .dataframe tbody tr th:only-of-type {\n",
       "        vertical-align: middle;\n",
       "    }\n",
       "\n",
       "    .dataframe tbody tr th {\n",
       "        vertical-align: top;\n",
       "    }\n",
       "\n",
       "    .dataframe thead th {\n",
       "        text-align: right;\n",
       "    }\n",
       "</style>\n",
       "<table border=\"1\" class=\"dataframe\">\n",
       "  <thead>\n",
       "    <tr style=\"text-align: right;\">\n",
       "      <th></th>\n",
       "      <th>a</th>\n",
       "      <th>b</th>\n",
       "      <th>c</th>\n",
       "    </tr>\n",
       "  </thead>\n",
       "  <tbody>\n",
       "    <tr>\n",
       "      <th>0</th>\n",
       "      <td>0</td>\n",
       "      <td>0</td>\n",
       "      <td>1</td>\n",
       "    </tr>\n",
       "    <tr>\n",
       "      <th>1</th>\n",
       "      <td>0</td>\n",
       "      <td>1</td>\n",
       "      <td>0</td>\n",
       "    </tr>\n",
       "    <tr>\n",
       "      <th>2</th>\n",
       "      <td>1</td>\n",
       "      <td>0</td>\n",
       "      <td>0</td>\n",
       "    </tr>\n",
       "    <tr>\n",
       "      <th>3</th>\n",
       "      <td>0</td>\n",
       "      <td>1</td>\n",
       "      <td>0</td>\n",
       "    </tr>\n",
       "    <tr>\n",
       "      <th>4</th>\n",
       "      <td>0</td>\n",
       "      <td>1</td>\n",
       "      <td>0</td>\n",
       "    </tr>\n",
       "    <tr>\n",
       "      <th>5</th>\n",
       "      <td>1</td>\n",
       "      <td>0</td>\n",
       "      <td>0</td>\n",
       "    </tr>\n",
       "  </tbody>\n",
       "</table>\n",
       "</div>"
      ],
      "text/plain": [
       "   a  b  c\n",
       "0  0  0  1\n",
       "1  0  1  0\n",
       "2  1  0  0\n",
       "3  0  1  0\n",
       "4  0  1  0\n",
       "5  1  0  0"
      ]
     },
     "execution_count": 61,
     "metadata": {},
     "output_type": "execute_result"
    }
   ],
   "source": [
    "pd.get_dummies(veri4[\"harf\"])"
   ]
  },
  {
   "cell_type": "code",
   "execution_count": 62,
   "id": "8e70a1a8",
   "metadata": {},
   "outputs": [
    {
     "data": {
      "text/plain": [
       "array([ 0.25173687,  1.12267532,  0.47442095,  0.61634598,  0.53360839,\n",
       "       -1.88760062, -1.04756375, -1.9185391 ,  1.69766583, -0.04734134])"
      ]
     },
     "execution_count": 62,
     "metadata": {},
     "output_type": "execute_result"
    }
   ],
   "source": [
    "veri5=np.random.randn(10)\n",
    "veri5"
   ]
  },
  {
   "cell_type": "code",
   "execution_count": 73,
   "id": "e4050467",
   "metadata": {},
   "outputs": [
    {
     "data": {
      "text/plain": [
       "array([ 0.25173687,  1.12267532,  0.47442095,  0.61634598,  0.53360839,\n",
       "       -1.88760062, -1.04756375, -1.9185391 ,  1.69766583, -0.04734134])"
      ]
     },
     "execution_count": 73,
     "metadata": {},
     "output_type": "execute_result"
    }
   ],
   "source": [
    "veri5"
   ]
  },
  {
   "cell_type": "code",
   "execution_count": 72,
   "id": "3d52be1c",
   "metadata": {},
   "outputs": [
    {
     "data": {
      "text/html": [
       "<div>\n",
       "<style scoped>\n",
       "    .dataframe tbody tr th:only-of-type {\n",
       "        vertical-align: middle;\n",
       "    }\n",
       "\n",
       "    .dataframe tbody tr th {\n",
       "        vertical-align: top;\n",
       "    }\n",
       "\n",
       "    .dataframe thead th {\n",
       "        text-align: right;\n",
       "    }\n",
       "</style>\n",
       "<table border=\"1\" class=\"dataframe\">\n",
       "  <thead>\n",
       "    <tr style=\"text-align: right;\">\n",
       "      <th></th>\n",
       "      <th>(-1.922, -1.014]</th>\n",
       "      <th>(-1.014, -0.11]</th>\n",
       "      <th>(-0.11, 0.794]</th>\n",
       "      <th>(0.794, 1.698]</th>\n",
       "    </tr>\n",
       "  </thead>\n",
       "  <tbody>\n",
       "    <tr>\n",
       "      <th>0</th>\n",
       "      <td>0</td>\n",
       "      <td>0</td>\n",
       "      <td>1</td>\n",
       "      <td>0</td>\n",
       "    </tr>\n",
       "    <tr>\n",
       "      <th>1</th>\n",
       "      <td>0</td>\n",
       "      <td>0</td>\n",
       "      <td>0</td>\n",
       "      <td>1</td>\n",
       "    </tr>\n",
       "    <tr>\n",
       "      <th>2</th>\n",
       "      <td>0</td>\n",
       "      <td>0</td>\n",
       "      <td>1</td>\n",
       "      <td>0</td>\n",
       "    </tr>\n",
       "    <tr>\n",
       "      <th>3</th>\n",
       "      <td>0</td>\n",
       "      <td>0</td>\n",
       "      <td>1</td>\n",
       "      <td>0</td>\n",
       "    </tr>\n",
       "    <tr>\n",
       "      <th>4</th>\n",
       "      <td>0</td>\n",
       "      <td>0</td>\n",
       "      <td>1</td>\n",
       "      <td>0</td>\n",
       "    </tr>\n",
       "    <tr>\n",
       "      <th>5</th>\n",
       "      <td>1</td>\n",
       "      <td>0</td>\n",
       "      <td>0</td>\n",
       "      <td>0</td>\n",
       "    </tr>\n",
       "    <tr>\n",
       "      <th>6</th>\n",
       "      <td>1</td>\n",
       "      <td>0</td>\n",
       "      <td>0</td>\n",
       "      <td>0</td>\n",
       "    </tr>\n",
       "    <tr>\n",
       "      <th>7</th>\n",
       "      <td>1</td>\n",
       "      <td>0</td>\n",
       "      <td>0</td>\n",
       "      <td>0</td>\n",
       "    </tr>\n",
       "    <tr>\n",
       "      <th>8</th>\n",
       "      <td>0</td>\n",
       "      <td>0</td>\n",
       "      <td>0</td>\n",
       "      <td>1</td>\n",
       "    </tr>\n",
       "    <tr>\n",
       "      <th>9</th>\n",
       "      <td>0</td>\n",
       "      <td>0</td>\n",
       "      <td>1</td>\n",
       "      <td>0</td>\n",
       "    </tr>\n",
       "  </tbody>\n",
       "</table>\n",
       "</div>"
      ],
      "text/plain": [
       "   (-1.922, -1.014]  (-1.014, -0.11]  (-0.11, 0.794]  (0.794, 1.698]\n",
       "0                 0                0               1               0\n",
       "1                 0                0               0               1\n",
       "2                 0                0               1               0\n",
       "3                 0                0               1               0\n",
       "4                 0                0               1               0\n",
       "5                 1                0               0               0\n",
       "6                 1                0               0               0\n",
       "7                 1                0               0               0\n",
       "8                 0                0               0               1\n",
       "9                 0                0               1               0"
      ]
     },
     "execution_count": 72,
     "metadata": {},
     "output_type": "execute_result"
    }
   ],
   "source": [
    "pd.get_dummies(pd.cut(veri5,4))"
   ]
  },
  {
   "cell_type": "code",
   "execution_count": 68,
   "id": "d39c88f2",
   "metadata": {},
   "outputs": [
    {
     "data": {
      "text/plain": [
       "[(-1.055, -0.656], (-1.055, -0.656], (-1.656, -1.055], (0.883, 2.714], (0.618, 0.883], ..., (0.618, 0.883], (-0.478, -0.0831], (-1.656, -1.055], (0.618, 0.883], (-0.0831, 0.13]]\n",
       "Length: 100\n",
       "Categories (10, interval[float64]): [(-2.67, -1.656] < (-1.656, -1.055] < (-1.055, -0.656] < (-0.656, -0.478] ... (0.13, 0.295] < (0.295, 0.618] < (0.618, 0.883] < (0.883, 2.714]]"
      ]
     },
     "execution_count": 68,
     "metadata": {},
     "output_type": "execute_result"
    }
   ],
   "source": [
    "x"
   ]
  },
  {
   "cell_type": "code",
   "execution_count": null,
   "id": "708d1f4b",
   "metadata": {},
   "outputs": [],
   "source": []
  }
 ],
 "metadata": {
  "kernelspec": {
   "display_name": "Python 3",
   "language": "python",
   "name": "python3"
  },
  "language_info": {
   "codemirror_mode": {
    "name": "ipython",
    "version": 3
   },
   "file_extension": ".py",
   "mimetype": "text/x-python",
   "name": "python",
   "nbconvert_exporter": "python",
   "pygments_lexer": "ipython3",
   "version": "3.8.8"
  }
 },
 "nbformat": 4,
 "nbformat_minor": 5
}
